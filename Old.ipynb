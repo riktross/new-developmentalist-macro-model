{
 "cells": [
  {
   "cell_type": "markdown",
   "id": "b15f39de-beff-4c82-bfd3-b230c39c9e49",
   "metadata": {},
   "source": [
    "# New Developmentalist macrodynamic model"
   ]
  },
  {
   "cell_type": "markdown",
   "id": "03619689-279c-4102-aa91-e053775206b5",
   "metadata": {},
   "source": [
    "**List of variables:**\n",
    "$$\n",
    "\\begin{flalign}\n",
    "& \\textbf{a. Economic Development and Technical Progress} \\\\\n",
    "& k := \\text{Capital intensity (Capital per worker)} & \\\\\n",
    "& y := \\text{Labor productivity (Output per Worker)} &\\\\\n",
    "& \\alpha_0 := \\text{Intercept parameter in productivity growth eq.} & \\\\\n",
    "& \\beta_0 := \\text{Slope parameter in productivity growth eq.} & \\\\\n",
    "\\newline \n",
    "\\newline \n",
    "& \\textbf{b. Employment share and natural rate of growth} \\\\ \n",
    "& L:= \\text{Employed workers} \\\\\n",
    "& N:= \\text{Labor force} \\\\\n",
    "& e := \\text{Employment share (Employed workers per Labor force)} \\\\\n",
    "& n := \\text{growth rate of labor force} \\\\\n",
    "& gn := \\text{natural growth rate (not growth of labor force n!} \\\\\n",
    "\\newline \n",
    "\\newline \n",
    "& \\textbf{c. Effective demand, capital accumulation and capacity utilization} \\\\\n",
    "& D := \\text{Demand induced by economic activity (consumption + investment)} \\\\\n",
    "& A := \\text{Demand independent of economic activity (government expenditures + exports)} \\\\\n",
    "& q := E \\cdot ({P^*}/{P}) = \\text{Real exchange rate} \\\\\n",
    "& E := \\text{Nominal exchange rate (price of foreign currency in domestic currency)} \\\\\n",
    "& P^* := \\text{Price of imported goods in foreign currency} \\\\\n",
    "& P := \\text{Price of domestic goods in domestic currency} \\\\\n",
    "& M := \\text{Volume of imports} \\\\\n",
    "& C := \\text{Real Consumption demand)} \\\\\n",
    "& c_w := \\text{Propensity to consume out of disposable wage} \\\\\n",
    "& \\tau := \\text{Income tax rate} \\\\\n",
    "& \\pi := \\text{Profit share} \\\\\n",
    "& I := \\text{Aggregate investment} \\\\\n",
    "& h := \\text{Average propensity to invest} \\\\\n",
    "& \\bar{G} := \\text{Real government expenditures}\\\\\n",
    "& \\bar{X} := \\text{Volume of exports} \\\\\n",
    "& m := \\text{Marginal propensity to import} \\\\\n",
    "& \\sigma := \\text{Harrod-Hicks super multiplier of autonomous expenditures} \\\\\n",
    "& s := \\text{Propencity to consume out of disposable wage} \\\\\n",
    "& \\alpha := \\text{share of government expenditures of independent demand for domestic goods} \\\\\n",
    "& v := \\text{Capital to potential output ratio} \\\\\n",
    "& Y_p := \\text{Potential output} \\\\\n",
    "& u := \\text{Capacity utilization (output/potential output)} \\\\\n",
    "& u_n := \\text{Normal capacity utilization} \\\\\n",
    "& \\delta := \\text{rate of depreciation of capital stock} \\\\\n",
    "& \\mu := \\text{Reaction parameter of propensity to invest, to capital utilization} \\\\\n",
    "& \\epsilon := \\text{Reaction parameter of government expenditure, to target share of expenditures} \\\\\n",
    "& g := \\text{Share of government expenditures to real output} \\\\\n",
    "\\newline\n",
    "\\newline\n",
    "& \\textbf{d. Structural Change, Technological Gap and Real Exchange Rate} \\\\\n",
    "& G := \\text{Technological gap (NOT GOVERNMENT SHARE)} \\\\\n",
    "& \\gamma := \\text{Share of manufacturing industry in real output} \\\\\n",
    "& \\hat{\\gamma_0} := \\text{Parameter of autonomous manufacturing growth} \\\\\n",
    "& \\hat{\\gamma_1} := \\text{Coefficient of real exchange rate on manufacturing growth} \\\\\n",
    "& \\hat{\\gamma_2} := \\text{Coefficient of technological gap on manufacturing growth} \\\\\n",
    "\\newline\n",
    "\\newline\n",
    "& \\textbf{e. Balance of Payments, Dutch Disease, Savings Substitution with Growth with External Savings Model} \\\\\n",
    "& D := \\text{Current account deficit (D is used twice)} \\\\\n",
    "& d := \\text{Ratio of current account deficit to real output} \\\\\n",
    "& d_0 := \\text{'autonomous' component component of c.a. deficit to gdp} \\\\\n",
    "& d_1 := \\text{Coefficient of real exchange rate on manufacturing growth} \\\\\n",
    "& S_{w, c, g} := \\text{Savings of workers, capitalist and government} \\\\\n",
    "& G^c := \\text{Threshold level of technological gap} \\\\\n",
    "& \\bar{d} := \\text{target of current account deficit to GDP} \\\\\n",
    "& q^{CAB} := \\text{Level of real exchange rate with balanced current account} \\\\\n",
    "& q^{ES} := \\text{Level of real exchange rate that achieves external savings balance} \\\\\n",
    "& ca := \\text{capital account surplus as ratio of GDP} \\\\\n",
    "& ca_0 := \\text{autonomous component of capital account} \\\\\n",
    "& ca_1 := \\text{Coefficient of risk-adjusted interest rate differential on capital flows} \\\\\n",
    "& i := \\text{Domestic interest rate} \\\\\n",
    "& i^f := \\text{Foreign interest rate} \\\\\n",
    "& \\rho := \\text{Country risk premium} \\\\\n",
    "\\newline\n",
    "\\newline\n",
    "& \\textbf{f. Price Setting, Income Distribution and Real Exchange Rate} \\\\\n",
    "& p := \\text{Price level} \\\\\n",
    "& w := \\text{Nominal wage rate} \\\\\n",
    "& z := \\text{Mark-up rate over unit labor cost} \\\\\n",
    "& z_0 := \\text{Autonomous parameter of markup} \\\\\n",
    "& z_1 := \\text{Coefficient of real-exchange rate on markup} \\\\\n",
    "& v := \\text{Real wage (wage over price)} \\\\\n",
    "& \\pi^* := \\text{Profit share targetted by workers} \\\\\n",
    "& \\mu_1 := \\text{Reacion parameter of nominal wage growth to profit share deviation} \\\\\n",
    "& \\mu_2 := \\text{Reaction parameter of nominal wage to expected inflation} \\\\\n",
    "\\end{flalign} \n",
    "$$\n"
   ]
  },
  {
   "cell_type": "code",
   "execution_count": null,
   "id": "bb98f7f1-0daa-4038-adf9-4c05d2c94efb",
   "metadata": {},
   "outputs": [],
   "source": [
    "from pysolve.model import Model\n",
    "from pysolve.utils import is_close,round_solution"
   ]
  },
  {
   "cell_type": "code",
   "execution_count": 4,
   "id": "ffd04757-9510-4820-b361-73722d7faa97",
   "metadata": {},
   "outputs": [],
   "source": [
    "model = Model()\n",
    "model.set_var_default(0)"
   ]
  },
  {
   "cell_type": "code",
   "execution_count": null,
   "id": "8781b0cb-2dd2-47a5-9367-ec819da47a42",
   "metadata": {},
   "outputs": [],
   "source": [
    "model.var('gamma', desc='Share of manufacturing in real output')"
   ]
  },
  {
   "cell_type": "code",
   "execution_count": 11,
   "id": "6b365e06-fa52-4fe8-aaa0-e3bff7b400c2",
   "metadata": {},
   "outputs": [
    {
     "ename": "DuplicateNameError",
     "evalue": "Name already in use: alpha0",
     "output_type": "error",
     "traceback": [
      "\u001b[1;31m---------------------------------------------------------------------------\u001b[0m",
      "\u001b[1;31mDuplicateNameError\u001b[0m                        Traceback (most recent call last)",
      "Cell \u001b[1;32mIn[11], line 1\u001b[0m\n\u001b[1;32m----> 1\u001b[0m \u001b[43mmodel\u001b[49m\u001b[38;5;241;43m.\u001b[39;49m\u001b[43mparam\u001b[49m\u001b[43m(\u001b[49m\u001b[38;5;124;43m'\u001b[39;49m\u001b[38;5;124;43malpha0\u001b[39;49m\u001b[38;5;124;43m'\u001b[39;49m\u001b[43m,\u001b[49m\u001b[43m \u001b[49m\u001b[43mdesc\u001b[49m\u001b[38;5;241;43m=\u001b[39;49m\u001b[38;5;124;43m'\u001b[39;49m\u001b[38;5;124;43mIntercept parameter of productivity growth\u001b[39;49m\u001b[38;5;124;43m'\u001b[39;49m\u001b[43m)\u001b[49m\n",
      "File \u001b[1;32m~\\.conda\\envs\\new-dev-model\\lib\\site-packages\\pysolve\\model.py:537\u001b[0m, in \u001b[0;36mModel.param\u001b[1;34m(self, name, desc, default)\u001b[0m\n\u001b[0;32m    535\u001b[0m     default \u001b[38;5;241m=\u001b[39m \u001b[38;5;28mself\u001b[39m\u001b[38;5;241m.\u001b[39m_param_default\n\u001b[0;32m    536\u001b[0m \u001b[38;5;28;01mif\u001b[39;00m name \u001b[38;5;129;01min\u001b[39;00m \u001b[38;5;28mself\u001b[39m\u001b[38;5;241m.\u001b[39mvariables \u001b[38;5;129;01mor\u001b[39;00m name \u001b[38;5;129;01min\u001b[39;00m \u001b[38;5;28mself\u001b[39m\u001b[38;5;241m.\u001b[39mparameters:\n\u001b[1;32m--> 537\u001b[0m     \u001b[38;5;28;01mraise\u001b[39;00m DuplicateNameError(\u001b[38;5;124m'\u001b[39m\u001b[38;5;124mName already in use: \u001b[39m\u001b[38;5;124m'\u001b[39m \u001b[38;5;241m+\u001b[39m name)\n\u001b[0;32m    538\u001b[0m param \u001b[38;5;241m=\u001b[39m Parameter(name, desc\u001b[38;5;241m=\u001b[39mdesc, default\u001b[38;5;241m=\u001b[39mdefault)\n\u001b[0;32m    539\u001b[0m param\u001b[38;5;241m.\u001b[39mmodel \u001b[38;5;241m=\u001b[39m \u001b[38;5;28mself\u001b[39m\n",
      "\u001b[1;31mDuplicateNameError\u001b[0m: Name already in use: alpha0"
     ]
    }
   ],
   "source": [
    "# model.param('alpha_0', desc='Intercept parameter of productivity growth')\n",
    "# model.param('beta_0', desc='Slope parameter in productivity growth')\n"
   ]
  }
 ],
 "metadata": {
  "kernelspec": {
   "display_name": "Python (new-dev-model)",
   "language": "python",
   "name": "new-dev-model"
  },
  "language_info": {
   "codemirror_mode": {
    "name": "ipython",
    "version": 3
   },
   "file_extension": ".py",
   "mimetype": "text/x-python",
   "name": "python",
   "nbconvert_exporter": "python",
   "pygments_lexer": "ipython3",
   "version": "3.8.18"
  }
 },
 "nbformat": 4,
 "nbformat_minor": 5
}
